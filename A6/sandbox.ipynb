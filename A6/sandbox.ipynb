{
 "cells": [
  {
   "cell_type": "code",
   "execution_count": 11,
   "metadata": {},
   "outputs": [
    {
     "name": "stdout",
     "output_type": "stream",
     "text": [
      "tensor([[[[3, 4, 9, 6],\n",
      "          [5, 6, 6, 6],\n",
      "          [5, 6, 4, 8],\n",
      "          [6, 0, 6, 9],\n",
      "          [5, 7, 1, 2]],\n",
      "\n",
      "         [[3, 2, 3, 6],\n",
      "          [8, 8, 9, 0],\n",
      "          [3, 0, 2, 6],\n",
      "          [1, 0, 4, 2],\n",
      "          [3, 1, 3, 8]],\n",
      "\n",
      "         [[9, 9, 7, 4],\n",
      "          [8, 1, 4, 2],\n",
      "          [1, 8, 3, 4],\n",
      "          [3, 0, 8, 3],\n",
      "          [7, 2, 4, 4]]]])\n",
      "tensor([[[[4, 9, 6, 6],\n",
      "          [6, 6, 6, 6],\n",
      "          [6, 4, 8, 8],\n",
      "          [0, 6, 9, 9],\n",
      "          [7, 1, 2, 2]],\n",
      "\n",
      "         [[2, 3, 6, 6],\n",
      "          [8, 9, 0, 0],\n",
      "          [0, 2, 6, 6],\n",
      "          [0, 4, 2, 2],\n",
      "          [1, 3, 8, 8]],\n",
      "\n",
      "         [[9, 7, 4, 4],\n",
      "          [1, 4, 2, 2],\n",
      "          [8, 3, 4, 4],\n",
      "          [0, 8, 3, 3],\n",
      "          [2, 4, 4, 4]]]])\n"
     ]
    },
    {
     "data": {
      "text/plain": [
       "tensor(1579)"
      ]
     },
     "execution_count": 11,
     "metadata": {},
     "output_type": "execute_result"
    }
   ],
   "source": [
    "import torch\n",
    "\n",
    "img = torch.randint(10, (1, 3, 5, 4))\n",
    "tv_weight = 1\n",
    "\n",
    "print(img)\n",
    "\n",
    "_, _, H, W = img.shape\n",
    "\n",
    "h_img = img.clone()\n",
    "h_img[:, :, 1:] = h_img[:, :, :H-1]\n",
    "h_loss = torch.sum((img - h_img)**2)\n",
    "\n",
    "w_img = img.clone()\n",
    "w_img[:, :, :, :W-1] = w_img[:, :, :, 1:]\n",
    "w_loss = torch.sum((w_img - img)**2)\n",
    "\n",
    "print(w_img)\n",
    "\n",
    "tv_weight*(w_loss + h_loss)"
   ]
  }
 ],
 "metadata": {
  "kernelspec": {
   "display_name": "Python 3",
   "language": "python",
   "name": "python3"
  },
  "language_info": {
   "codemirror_mode": {
    "name": "ipython",
    "version": 3
   },
   "file_extension": ".py",
   "mimetype": "text/x-python",
   "name": "python",
   "nbconvert_exporter": "python",
   "pygments_lexer": "ipython3",
   "version": "3.11.7"
  }
 },
 "nbformat": 4,
 "nbformat_minor": 2
}
